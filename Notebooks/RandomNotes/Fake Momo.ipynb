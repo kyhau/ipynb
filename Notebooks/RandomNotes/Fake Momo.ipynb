{
 "cells": [
  {
   "cell_type": "markdown",
   "metadata": {},
   "source": [
    "# Demo - Fake Momo\n",
    "\n",
    "**Real Momo** \n",
    "- most valuable flowdock member of January 2016\n",
    "- responsible for restarting token server and sending free-token notifications for token users\n",
    "- cheering up (or pissing off) token users when they are waiting for a solve\n",
    "- recommending expensive places for lunch for BNE team (dunno why)\n",
    "\n",
    "**Third-party packages:**\n",
    "- Flowdock api wrapper: [pyflowdock](https://github.com/Aeron/PyFlowdock) - Simple Flowdock APIs wrapper\n",
    "- Chatbot: [chatterbot](https://github.com/gunthercox/ChatterBot)\n",
    "\n",
    "Also use: google places api, xkcd, dilbert, cowsay + fortune"
   ]
  },
  {
   "cell_type": "markdown",
   "metadata": {},
   "source": [
    "## Flowdock API Libraries\n",
    "\n",
    "See [A list of libraries to access CA Flowdock in your favorite language](https://www.flowdock.com/api/libraries) - e.g. Clojure, Erland, Go, \"Noon's favourite\", JavaScript, Perl, PHP, Python, R, Ruby\n",
    "\n",
    "**Python**\n",
    "- [PyFlowdock](https://github.com/Aeron/PyFlowdock/) by Eugene “Aeron” Glybin — Simple CA Flowdock APIs wrapper with some useful helpers\n",
    "- [python-flowdock](https://bitbucket.org/j00bar/python-flowdock/wiki/Home) by Joshua Ginsberg — A Python interface to the CA Flowdock API\n"
   ]
  },
  {
   "cell_type": "markdown",
   "metadata": {},
   "source": [
    "## pyflowdock demo\n",
    "- Simple Flowdock APIs wrapper with some useful helpers. \n",
    "- Only Push API (Team Inbox and Chat)\n",
    "- Streaming API available at this moment."
   ]
  },
  {
   "cell_type": "code",
   "execution_count": 13,
   "metadata": {
    "collapsed": false
   },
   "outputs": [
    {
     "name": "stdout",
     "output_type": "stream",
     "text": [
      "Requirement already satisfied (use --upgrade to upgrade): pyflowdock in c:\\python27\\lib\\site-packages\n",
      "Requirement already satisfied (use --upgrade to upgrade): requests in c:\\python27\\lib\\site-packages (from pyflowdock)\n"
     ]
    }
   ],
   "source": [
    "!pip install pyflowdock"
   ]
  },
  {
   "cell_type": "code",
   "execution_count": 2,
   "metadata": {
    "collapsed": true
   },
   "outputs": [],
   "source": [
    "# Flow - Momo\n",
    "FLOW_API_TOKEN = ''\n",
    "FLOW_EMAIL = 'momo@organisation_xxx.flowdock.com'"
   ]
  },
  {
   "cell_type": "markdown",
   "metadata": {},
   "source": [
    "### Post to Flowdock Chat or Flowdock Team Inbox"
   ]
  },
  {
   "cell_type": "code",
   "execution_count": 5,
   "metadata": {
    "collapsed": false
   },
   "outputs": [],
   "source": [
    "from flowdock import Chat, TeamInbox\n",
    "\n",
    "BOT_NAME = 'FakeMomo'\n",
    "\n",
    "\n",
    "def post_to_chat(flow_api_token, msg, tag_list, sender_name=BOT_NAME):\n",
    "    \"\"\"\n",
    "    Post to Flowdock Chat\n",
    "    \"\"\"\n",
    "    chat = Chat(flow_api_token)\n",
    "    \n",
    "    # tag_list_str e.g. \"#awesome,cool,@mike\"\n",
    "    chat.post(msg, sender_name, tag_list)\n",
    "\n",
    "\n",
    "def post_to_team_inbox(flow_api_token, subject, msg, sender_email):\n",
    "    \"\"\"\n",
    "    Post a Flowdock TeamInbox message\n",
    "    \"\"\"\n",
    "    inbox = TeamInbox(flow_api_token)\n",
    "    inbox.post('Source', sender_email, subject, '<p>{}</p>'.format(msg))\n"
   ]
  },
  {
   "cell_type": "code",
   "execution_count": 14,
   "metadata": {
    "collapsed": false
   },
   "outputs": [],
   "source": [
    "post_to_chat(FLOW_API_TOKEN, msg='Hello world', tag_list='#test,@dev01')"
   ]
  },
  {
   "cell_type": "code",
   "execution_count": 15,
   "metadata": {
    "collapsed": false
   },
   "outputs": [],
   "source": [
    "post_to_team_inbox(FLOW_API_TOKEN, subject=\"Build failed\", msg=\"Just kidding!\", sender_email=FLOW_EMAIL)"
   ]
  },
  {
   "cell_type": "markdown",
   "metadata": {},
   "source": [
    "### Streaming specific flows"
   ]
  },
  {
   "cell_type": "code",
   "execution_count": 10,
   "metadata": {
    "collapsed": true
   },
   "outputs": [],
   "source": [
    "# Need 'User' details, only can access flows which user have access to (i.e. need to add this User to the flow)\n",
    "\n",
    "# User Personal API Token (Momo's)\n",
    "PERSONAL_API_TOKEN = ''\n"
   ]
  },
  {
   "cell_type": "code",
   "execution_count": 11,
   "metadata": {
    "collapsed": true
   },
   "outputs": [],
   "source": [
    "\"\"\"\n",
    "Streaming specific flow in Flowdock\n",
    "\n",
    "See also Flowdock message types: https://www.flowdock.com/api/message-types\n",
    "\"\"\"\n",
    "from flowdock import JSONStream\n",
    "import json\n",
    "\n",
    "\n",
    "def streaming():\n",
    "\n",
    "    # Flow Name - please note that the flow name is the original name created\n",
    "    # i.e. 'parameterized_name' in https://<username>:<password>:api.flowdock.com/flows\n",
    "    flow_list = [ 'organisation_xxx/momo' ]\n",
    "\n",
    "    # Streaming API supports two different content types, JSON stream and Event-Stream.\n",
    "    stream = JSONStream(PERSONAL_API_TOKEN)\n",
    "\n",
    "    try:\n",
    "        gen = stream.fetch(flow_list, plain=True)\n",
    "        \n",
    "        for data_str in gen:\n",
    "            data = json.loads(data_str)\n",
    "            dump_data(data)\n",
    "\n",
    "    except Exception as e:\n",
    "        print e\n",
    "\n",
    "        \n",
    "def dump_data(data):\n",
    "    print json.dumps(data, sort_keys=True, indent=4)\n"
   ]
  },
  {
   "cell_type": "code",
   "execution_count": 1,
   "metadata": {
    "collapsed": false
   },
   "outputs": [
    {
     "ename": "NameError",
     "evalue": "name 'streaming' is not defined",
     "output_type": "error",
     "traceback": [
      "\u001b[0;31m---------------------------------------------------------------------------\u001b[0m",
      "\u001b[0;31mNameError\u001b[0m                                 Traceback (most recent call last)",
      "\u001b[0;32m<ipython-input-1-0aca8e0742a6>\u001b[0m in \u001b[0;36m<module>\u001b[0;34m()\u001b[0m\n\u001b[0;32m----> 1\u001b[0;31m \u001b[0mstreaming\u001b[0m\u001b[1;33m(\u001b[0m\u001b[1;33m)\u001b[0m\u001b[1;33m\u001b[0m\u001b[0m\n\u001b[0m",
      "\u001b[0;31mNameError\u001b[0m: name 'streaming' is not defined"
     ]
    }
   ],
   "source": [
    "streaming()"
   ]
  },
  {
   "cell_type": "markdown",
   "metadata": {},
   "source": [
    "See also [Flowdock message types and spectifications](https://www.flowdock.com/api/message-types)"
   ]
  },
  {
   "cell_type": "markdown",
   "metadata": {},
   "source": [
    "### Examples of getting more from Flowdock API"
   ]
  },
  {
   "cell_type": "code",
   "execution_count": 23,
   "metadata": {
    "collapsed": true
   },
   "outputs": [],
   "source": [
    "\"\"\"\n",
    "Prepare resources ACCESSIBLE by Momo (not all flows are accessible by Momo!)\n",
    "\"\"\"\n",
    "import requests\n",
    "\n",
    "\n",
    "DEFAULT_CONTENT_TYPE = 'application/json'\n",
    "FLOWS_API_URL = 'https://api.flowdock.com/flows'\n",
    "FLOWS_ALL_API_URL = 'https://api.flowdock.com/flows/all'\n",
    "USERS_API_URL = 'https://api.flowdock.com/users'\n",
    "\n",
    "\n",
    "class MomoResources(object):\n",
    "    def __init__(self, personal_api_token, logger):\n",
    "        self.auth = (personal_api_token, '')\n",
    "        self.logger = logger\n",
    "\n",
    "        # [team_notifications, last_message_id, description, last_message_at,\n",
    "        #  url, joined, id, parameterized_name, web_url, flow_admin, api_token,\n",
    "        #  organization, access_mode, open, email, name]\n",
    "        self.flows_json = MomoResources.api_request(FLOWS_API_URL, self.auth, self.logger)\n",
    "\n",
    "        # [website, name, email, nick, avatar, id]\n",
    "        self.users_json = MomoResources.api_request(USERS_API_URL, self.auth, self.logger)\n",
    "\n",
    "    def api_token(self, id):\n",
    "        \"\"\"\n",
    "        Return the Flow API Token for the given Flow ID\n",
    "        \"\"\"\n",
    "        if self.flows_json:\n",
    "            for f in self.flows_json:\n",
    "                if f['id'].encode('utf-8') == id:\n",
    "                    return f['api_token'].encode('utf-8')\n",
    "        return None\n",
    "\n",
    "    @property\n",
    "    def flow_parameterized_names(self):\n",
    "        \"\"\"\n",
    "        Return the parameterized_name of the list of flows accessible by Momo\n",
    "        \"\"\"\n",
    "        return [f['parameterized_name'].encode('utf-8') for f in self.flows_json] \\\n",
    "            if self.flows_json is not None else []\n",
    "\n",
    "    @property\n",
    "    def organization_flow_parameterized_names(self):\n",
    "        \"\"\"\n",
    "        Return the organization_name/parameterized_name of the list of flows accessible by Momo\n",
    "        \"\"\"\n",
    "        return ['{}/{}'.format(\n",
    "                f['organization']['parameterized_name'].encode('utf-8'),\n",
    "                f['parameterized_name'].encode('utf-8')\n",
    "            )\n",
    "            for f in self.flows_json] \\\n",
    "            if self.flows_json is not None else []\n",
    "\n",
    "    @staticmethod\n",
    "    def api_request(api_url, auth, logger):\n",
    "        \"\"\"\n",
    "        Process the actual Flowdock API GET requests\n",
    "        \"\"\"\n",
    "        try:\n",
    "            headers = {\n",
    "                'content-type': DEFAULT_CONTENT_TYPE,\n",
    "                'accept': DEFAULT_CONTENT_TYPE,\n",
    "            }\n",
    "\n",
    "            ret = requests.get(api_url, headers=headers, auth=auth)\n",
    "            if ret.status_code == 200:\n",
    "                return ret.json()\n",
    "\n",
    "            logger.error('{}: status_code: {}'.format(api_url, ret.status_code))\n",
    "\n",
    "        except Exception as e:\n",
    "            logger.error('{} {}: {}'.format(api_url, type(e), e.message))\n",
    "        return None\n",
    "\n"
   ]
  },
  {
   "cell_type": "markdown",
   "metadata": {},
   "source": [
    "## Chatbot Libraries (python)\n",
    "\n",
    "- [ChatterBot](https://pypi.python.org/pypi/ChatterBot/0.4.0)\n",
    "    \n"
   ]
  },
  {
   "cell_type": "markdown",
   "metadata": {},
   "source": [
    "## chatterbot demo\n",
    "\n",
    "- [ChatterBot](https://pypi.python.org/pypi/ChatterBot/0.4.0)\n",
    "- Each time a user enters a statement, the library saves the text that they entered and the text that the statement was in response to.\n",
    "- Different basic [adapters/logic](https://github.com/gunthercox/ChatterBot/tree/master/chatterbot/adapters/logic)"
   ]
  },
  {
   "cell_type": "code",
   "execution_count": 25,
   "metadata": {
    "collapsed": false
   },
   "outputs": [
    {
     "name": "stdout",
     "output_type": "stream",
     "text": [
      "Requirement already satisfied (use --upgrade to upgrade): chatterbot==0.3.5 in c:\\python27\\lib\\site-packages\n",
      "Requirement already satisfied (use --upgrade to upgrade): pymongo<4.0.0,>=3.0.3 in c:\\python27\\lib\\site-packages (from chatterbot==0.3.5)\n",
      "Requirement already satisfied (use --upgrade to upgrade): fuzzywuzzy>=0.8.0 in c:\\python27\\lib\\site-packages (from chatterbot==0.3.5)\n",
      "Requirement already satisfied (use --upgrade to upgrade): textblob>=0.11.0 in c:\\python27\\lib\\site-packages (from chatterbot==0.3.5)\n",
      "Requirement already satisfied (use --upgrade to upgrade): nltk<4.0.0 in c:\\python27\\lib\\site-packages (from chatterbot==0.3.5)\n",
      "Requirement already satisfied (use --upgrade to upgrade): python-twitter>=3.0rc1 in c:\\python27\\lib\\site-packages (from chatterbot==0.3.5)\n",
      "Requirement already satisfied (use --upgrade to upgrade): jsondatabase>=0.0.7 in c:\\python27\\lib\\site-packages (from chatterbot==0.3.5)\n",
      "Requirement already satisfied (use --upgrade to upgrade): requests in c:\\python27\\lib\\site-packages (from python-twitter>=3.0rc1->chatterbot==0.3.5)\n",
      "Requirement already satisfied (use --upgrade to upgrade): future in c:\\python27\\lib\\site-packages (from python-twitter>=3.0rc1->chatterbot==0.3.5)\n",
      "Requirement already satisfied (use --upgrade to upgrade): requests-oauthlib in c:\\python27\\lib\\site-packages (from python-twitter>=3.0rc1->chatterbot==0.3.5)\n",
      "Requirement already satisfied (use --upgrade to upgrade): oauthlib>=0.6.2 in c:\\python27\\lib\\site-packages (from requests-oauthlib->python-twitter>=3.0rc1->chatterbot==0.3.5)\n",
      "Requirement already satisfied (use --upgrade to upgrade): python-Levenshtein==0.12.0 in c:\\python27\\lib\\site-packages\n",
      "Requirement already satisfied (use --upgrade to upgrade): setuptools in c:\\python27\\lib\\site-packages (from python-Levenshtein==0.12.0)\n"
     ]
    }
   ],
   "source": [
    "!pip install chatterbot==0.3.5\n",
    "!pip install python-Levenshtein==0.12.0"
   ]
  },
  {
   "cell_type": "code",
   "execution_count": null,
   "metadata": {
    "collapsed": false
   },
   "outputs": [],
   "source": [
    "from chatterbot import ChatBot\n",
    "\n",
    "# Initialise with specific adapters\n",
    "chatbot = ChatBot(\n",
    "    \"FakeMomo\",\n",
    "    logic_adapter=\"chatterbot.adapters.logic.closest_match.ClosestMatchAdapter\",\n",
    "    storage_adapter=\"chatterbot.adapters.storage.JsonDatabaseAdapter\",\n",
    "    io_adapter=\"chatterbot.adapters.io.TerminalAdapter\",\n",
    "    database='C:\\Users\\dev01\\Desktop\\database.db'\n",
    ")\n",
    "\n",
    "# Train based on the english corpus\n",
    "chatbot.train(\"chatterbot.corpus.english\")"
   ]
  },
  {
   "cell_type": "code",
   "execution_count": 12,
   "metadata": {
    "collapsed": false
   },
   "outputs": [
    {
     "name": "stdout",
     "output_type": "stream",
     "text": [
      "Hi\n"
     ]
    },
    {
     "data": {
      "text/plain": [
       "u'Hi'"
      ]
     },
     "execution_count": 12,
     "metadata": {},
     "output_type": "execute_result"
    }
   ],
   "source": [
    "# Get a response to an input statement\n",
    "chatbot.get_response(\"Hello, how are you today?\")"
   ]
  },
  {
   "cell_type": "markdown",
   "metadata": {},
   "source": [
    "## chatterbot + pyflowdock demo"
   ]
  },
  {
   "cell_type": "code",
   "execution_count": null,
   "metadata": {
    "collapsed": true
   },
   "outputs": [],
   "source": [
    "def process_data(data, chatbot):\n",
    "    # only process original messages from Chat\n",
    "    if 'app' not in data or data['app'] != 'chat' \\\n",
    "        or 'event' not in data or data['event'] != 'message':\n",
    "        return\n",
    "\n",
    "    # From myself\n",
    "    if data['user'] == \"0\" \\\n",
    "        or data['content'] is None:\n",
    "        return\n",
    "\n",
    "    data_content = data['content'].encode('utf-8').strip()\n",
    "    print 'Received: {}'.format(data_content)\n",
    "    \n",
    "    msg = chatbot.get_response(data_content)\n",
    "    post_to_chat(FLOW_API_TOKEN, msg=msg, tag_list='#test,@dev01')\n",
    "\n",
    "\n",
    "def streaming(chatbot):\n",
    "    # Flow Name - please note that the flow name is the original name created\n",
    "    # i.e. 'parameterized_name' in https://<username>:<password>:api.flowdock.com/flows\n",
    "    flow_list = [ 'organisation_xxx/momo' ]\n",
    "    stream = JSONStream(PERSONAL_API_TOKEN)\n",
    "\n",
    "    try:\n",
    "        gen = stream.fetch(flow_list, plain=True)\n",
    "        \n",
    "        for data_str in gen:\n",
    "            data = json.loads(data_str)\n",
    "            process_data(data, chatbot)\n",
    "\n",
    "    except Exception as e:\n",
    "        print e"
   ]
  },
  {
   "cell_type": "code",
   "execution_count": null,
   "metadata": {
    "collapsed": false
   },
   "outputs": [],
   "source": [
    "streaming(chatbot)"
   ]
  },
  {
   "cell_type": "markdown",
   "metadata": {},
   "source": [
    "## Google Places API"
   ]
  },
  {
   "cell_type": "code",
   "execution_count": 48,
   "metadata": {
    "collapsed": false
   },
   "outputs": [],
   "source": [
    "\"\"\"\n",
    "Google Places\n",
    "\"\"\"\n",
    "import json\n",
    "import random\n",
    "import urllib\n",
    "\n",
    "DEFAULT_RADIUS_METRES = 1000\n",
    "DEFAULT_TYPE = 'restaurant'\n",
    "\n",
    "\n",
    "def google_places(lat_lng, key, type_str=DEFAULT_TYPE, radius=DEFAULT_RADIUS_METRES):\n",
    "\n",
    "    try:\n",
    "        # find possible options\n",
    "        search_url = ('https://maps.googleapis.com/maps/api/place/nearbysearch/json'\n",
    "                      '?location=%s'\n",
    "                      '&radius=%s'\n",
    "                      '&type=%s'\n",
    "                      '&opennow'\n",
    "                      '&key=%s') % (lat_lng, radius, type_str, key)\n",
    "\n",
    "        response = urllib.urlopen(search_url)\n",
    "        json_raw = response.read()\n",
    "        json_data = json.loads(json_raw)\n",
    "        \n",
    "        if json_data['status'] == 'OK':\n",
    "            results = json_data['results']\n",
    "\n",
    "            if len(results) > 0:\n",
    "                # just pick one\n",
    "                random.seed()\n",
    "                ret = results[random.randint(1, len(results))]\n",
    "\n",
    "                link = 'https://www.google.com/maps/place/{}/@{},17z/'.format(\n",
    "                    ret['name'].replace(' ','+'), lat_lng\n",
    "                )\n",
    "\n",
    "                msg = 'How about [{}, {}]({})?'.format(ret['name'], ret['vicinity'], link)\n",
    "                return msg\n",
    "\n",
    "        return 'No interesting place there! How about go somewhere else?'\n",
    "\n",
    "    except Exception as e:\n",
    "        print e\n",
    "\n",
    "    return 'Not a good day to dine out! How about order pizzas over the phone?'\n"
   ]
  },
  {
   "cell_type": "code",
   "execution_count": 40,
   "metadata": {
    "collapsed": false
   },
   "outputs": [
    {
     "data": {
      "text/plain": [
       "'How about [Borsch Vodka & Tears, 173 Chapel Street, Windsor](https://www.google.com/maps/place/Borsch+Vodka+&+Tears/@-37.856159,144.9922,17z/)?'"
      ]
     },
     "execution_count": 40,
     "metadata": {},
     "output_type": "execute_result"
    }
   ],
   "source": [
    "# TODO specify the api key here\n",
    "GOOGLE_API_KEY = ''\n",
    "WINDSOR_LAT_LNG = '-37.856159,144.9922'\n",
    "\n",
    "google_places(lat_lng=WINDSOR_LAT_LNG, key=GOOGLE_API_KEY, type_str=DEFAULT_TYPE, radius=DEFAULT_RADIUS_METRES)\n"
   ]
  },
  {
   "cell_type": "markdown",
   "metadata": {},
   "source": [
    "## xkcd"
   ]
  },
  {
   "cell_type": "code",
   "execution_count": 41,
   "metadata": {
    "collapsed": false
   },
   "outputs": [
    {
     "name": "stdout",
     "output_type": "stream",
     "text": [
      "Collecting xkcd==2.3.1\n",
      "Installing collected packages: xkcd\n",
      "Successfully installed xkcd-2.3.1\n"
     ]
    }
   ],
   "source": [
    "!pip install xkcd==2.3.1"
   ]
  },
  {
   "cell_type": "code",
   "execution_count": 45,
   "metadata": {
    "collapsed": false
   },
   "outputs": [],
   "source": [
    "import xkcd\n",
    "\n",
    "# Retrieve url of a random xkcd\n",
    "comic = xkcd.getRandomComic()\n",
    "msg = '{}:\\n{}\\n{}'.format(\n",
    "    comic.getAsciiTitle(),\n",
    "    comic.getAsciiAltText(),\n",
    "    comic.getAsciiImageLink()\n",
    ")\n",
    "\n",
    "post_to_chat(FLOW_API_TOKEN, msg, 'xkcd')\n"
   ]
  },
  {
   "cell_type": "markdown",
   "metadata": {},
   "source": [
    "## dilbert"
   ]
  },
  {
   "cell_type": "code",
   "execution_count": 46,
   "metadata": {
    "collapsed": false
   },
   "outputs": [
    {
     "name": "stdout",
     "output_type": "stream",
     "text": [
      "Collecting EasyProcess==0.2.2\n",
      "Installing collected packages: EasyProcess\n",
      "Successfully installed EasyProcess-0.2.2\n"
     ]
    }
   ],
   "source": [
    "!pip install EasyProcess==0.2.2"
   ]
  },
  {
   "cell_type": "code",
   "execution_count": 47,
   "metadata": {
    "collapsed": true
   },
   "outputs": [],
   "source": [
    "import random\n",
    "import re\n",
    "import urllib\n",
    "\n",
    "# Retrieve url of a random dilbert\n",
    "\n",
    "year = random.choice(['2013', '2014', '2015'])\n",
    "month = random.choice(range(1, 13))\n",
    "day = random.choice(range(1, 29))\n",
    "\n",
    "url_to_dilbert_page = 'http://www.dilbert.com/%s-%s-%s/' % (year, month, day)\n",
    "page_contents = urllib.urlopen(url_to_dilbert_page).read()\n",
    "msg = re.search('<meta name=\"twitter:image\" content=\"(.*)\">', page_contents).group(1) + '.png'\n",
    "\n",
    "post_to_chat(FLOW_API_TOKEN, msg, 'dilbert')\n"
   ]
  }
 ],
 "metadata": {
  "kernelspec": {
   "display_name": "Python 2",
   "language": "python",
   "name": "python2"
  },
  "language_info": {
   "codemirror_mode": {
    "name": "ipython",
    "version": 2
   },
   "file_extension": ".py",
   "mimetype": "text/x-python",
   "name": "python",
   "nbconvert_exporter": "python",
   "pygments_lexer": "ipython2",
   "version": "2.7.12"
  }
 },
 "nbformat": 4,
 "nbformat_minor": 0
}
